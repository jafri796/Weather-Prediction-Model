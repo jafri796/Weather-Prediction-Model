{
  "cells": [
    {
      "cell_type": "markdown",
      "metadata": {
        "id": "ByxehL1b4b2X"
      },
      "source": [
        "## Setup"
      ]
    },
    {
      "cell_type": "code",
      "execution_count": null,
      "metadata": {
        "id": "Jk_nY5kj70sX"
      },
      "outputs": [],
      "source": [
        "import os \n",
        "import time\n",
        "import random\n",
        "\n",
        "import numpy as np\n",
        "from PIL import Image\n",
        "import matplotlib.pyplot as plt\n",
        "\n",
        "import torch\n",
        "import torch.nn as nn\n",
        "import torch.nn.functional as F\n",
        "import torchvision.models as models\n",
        "from torch.utils.data import Dataset, DataLoader\n",
        "\n",
        "from sklearn.model_selection import train_test_split\n",
        "from sklearn.metrics import confusion_matrix, f1_score, precision_score, recall_score, accuracy_score"
      ]
    },
    {
      "cell_type": "code",
      "execution_count": null,
      "metadata": {
        "id": "--xkGTMmSdQj"
      },
      "outputs": [],
      "source": [
        "import glob\n",
        "import seaborn as sns\n",
        "\n",
        "import torchvision\n",
        "\n",
        "import torch.optim as optim\n",
        "\n",
        "from torchvision import transforms, utils, datasets\n",
        "from torch.utils.data import Dataset, DataLoader, SubsetRandomSampler\n",
        "\n",
        "from sklearn.metrics import classification_report, confusion_matrix"
      ]
    },
    {
      "cell_type": "code",
      "execution_count": null,
      "metadata": {
        "colab": {
          "base_uri": "https://localhost:8080/"
        },
        "id": "7Z7DwO4vLWyJ",
        "outputId": "75cca2ba-fa40-4edf-ce45-8f9d5aaeda3f"
      },
      "outputs": [
        {
          "name": "stdout",
          "output_type": "stream",
          "text": [
            "Mounted at /content/gdrive\n"
          ]
        }
      ],
      "source": [
        "# Mount Google Drive\n",
        "from google.colab import drive\n",
        "drive.mount('/content/gdrive')"
      ]
    },
    {
      "cell_type": "code",
      "execution_count": null,
      "metadata": {
        "id": "Ar1d-Y07Ln6w"
      },
      "outputs": [],
      "source": [
        "!unzip gdrive/MyDrive/CS464HW3Data/archive.zip > /dev/null"
      ]
    },
    {
      "cell_type": "code",
      "execution_count": null,
      "metadata": {
        "colab": {
          "base_uri": "https://localhost:8080/"
        },
        "id": "0XJ4Hihx5q-2",
        "outputId": "c398916e-eafb-47ff-c4b1-e59b971538b4"
      },
      "outputs": [
        {
          "name": "stdout",
          "output_type": "stream",
          "text": [
            "Using device: cuda\n",
            "GPU Name: Tesla T4\n",
            "Memory Stats:\n",
            "  - Allocated: 0.0 GB\n",
            "  - Cached:    0.0 GB\n",
            "  - Total:     14.8 GB\n"
          ]
        }
      ],
      "source": [
        "# setting device as GPU if available, else CPU\n",
        "device = torch.device('cuda' if torch.cuda.is_available() else 'cpu')\n",
        "print('Using device:', device)\n",
        "\n",
        "# CUDA device information\n",
        "if device.type == 'cuda':\n",
        "    print('GPU Name:', torch.cuda.get_device_name(0))\n",
        "    print('Memory Stats:')\n",
        "    print('  - Allocated:', round(torch.cuda.memory_allocated(0)/1024**3,1), 'GB')\n",
        "    print('  - Cached:   ', round(torch.cuda.memory_reserved(0)/1024**3,1), 'GB')\n",
        "    print('  - Total:    ', round(torch.cuda.get_device_properties(0).total_memory/1024**3,1), 'GB')"
      ]
    },
    {
      "cell_type": "code",
      "execution_count": null,
      "metadata": {
        "id": "4NiPHoaY5q8G"
      },
      "outputs": [],
      "source": [
        "# for reproducable results\n",
        "torch.manual_seed(464)\n",
        "torch.cuda.manual_seed(464)\n",
        "np.random.seed(464)\n",
        "random.seed(464)\n",
        "if device.type == 'cuda':\n",
        "    torch.backends.cudnn.deterministic=True"
      ]
    },
    {
      "cell_type": "code",
      "execution_count": null,
      "metadata": {
        "id": "iEgUvtFR8uY_"
      },
      "outputs": [],
      "source": [
        "class CustomDataset(Dataset):\n",
        "    def __init__(self, data, labels, **kwargs):\n",
        "      super(Dataset, self).__init__()\n",
        "      self.data = torch.from_numpy(data)\n",
        "      self.label = torch.from_numpy(labels)\n",
        "      self.count = data.shape[0]\n",
        "\n",
        "    def __len__(self):\n",
        "        return self.count\n",
        "\n",
        "    def __getitem__(self, index):\n",
        "        return (self.label[index], self.data[index])"
      ]
    },
    {
      "cell_type": "code",
      "execution_count": null,
      "metadata": {
        "id": "ZBmj0LlyMmS5"
      },
      "outputs": [],
      "source": [
        "def get_dataset():\n",
        "    # Initializing empty lists\n",
        "    pixel_list = []\n",
        "    label_list = []\n",
        "    \n",
        "    i=0\n",
        "    root_dir = '/content/Multi-class Weather Dataset/Cloudy'\n",
        "    # Traversing through data\n",
        "    for path in os.listdir(root_dir):\n",
        "      im = Image.open(root_dir+'/'+path).convert('RGB').resize((224,224),Image.BILINEAR)\n",
        "      data = im.getdata()\n",
        "      pixel_list.append(data)\n",
        "      label_list.append(i)\n",
        "\n",
        "    i = 1\n",
        "    root_dir = '/content/Multi-class Weather Dataset/Rain'\n",
        "    # Traversing through data\n",
        "    for path in os.listdir(root_dir):\n",
        "      im = Image.open(root_dir+'/'+path).convert('RGB').resize((224,224),Image.BILINEAR)\n",
        "      data = im.getdata()\n",
        "      pixel_list.append(data)\n",
        "      label_list.append(i)\n",
        "\n",
        "    i = 2\n",
        "    root_dir = '/content/Multi-class Weather Dataset/Shine'\n",
        "    # Traversing through data\n",
        "    for path in os.listdir(root_dir):\n",
        "      im = Image.open(root_dir+'/'+path).convert('RGB').resize((224,224),Image.BILINEAR)\n",
        "      data = im.getdata()\n",
        "      pixel_list.append(data)\n",
        "      label_list.append(i)\n",
        "\n",
        "    i = 3\n",
        "    root_dir = '/content/Multi-class Weather Dataset/Sunrise'\n",
        "    # Traversing through data\n",
        "    for path in os.listdir(root_dir):\n",
        "      im = Image.open(root_dir+'/'+path).convert('RGB').resize((224,224),Image.BILINEAR)\n",
        "      data = im.getdata()\n",
        "      pixel_list.append(data)\n",
        "      label_list.append(i)\n",
        "\n",
        "    pixel_array = np.asarray(pixel_list)\n",
        "    pixel_array = pixel_array.reshape(1125,224,224,3)\n",
        "    pixel_array = np.swapaxes(pixel_array,1,2)\n",
        "    pixel_array = np.swapaxes(pixel_array,1,3)\n",
        "    pixel_array_n = (pixel_array - np.amin(pixel_array))/(np.amax(pixel_array) - np.amin(pixel_array))\n",
        "    label_array = np.asarray(label_list)\n",
        "    train, x_test, label, y_test = train_test_split(pixel_array_n, label_array, test_size = 0.2)\n",
        "    x_train, x_val, y_train, y_val = train_test_split(train, label, test_size = 0.125)\n",
        "\n",
        "    return (x_train, y_train), (x_val, y_val), (x_test, y_test)"
      ]
    },
    {
      "cell_type": "code",
      "execution_count": null,
      "metadata": {
        "id": "kJF1ugvMWSif"
      },
      "outputs": [],
      "source": [
        "train_dataset, val_dataset, test_dataset = get_dataset()"
      ]
    },
    {
      "cell_type": "code",
      "execution_count": null,
      "metadata": {
        "id": "fZ8Yt60PAp2a"
      },
      "outputs": [],
      "source": [
        "x_train, y_train = train_dataset\n",
        "x_val, y_val = val_dataset\n",
        "x_test, y_test = test_dataset"
      ]
    },
    {
      "cell_type": "code",
      "execution_count": null,
      "metadata": {
        "id": "C1yM9RoqAYh8"
      },
      "outputs": [],
      "source": [
        "class ConvNet(nn.Module):\n",
        "    '''Define your convolutional neural network'''\n",
        "    def __init__(self, **kwargs):\n",
        "      super(ConvNet, self).__init__()\n",
        "      self.conv1 = nn.Conv2d(3, 16, kernel_size = (3,3), stride = 1, padding = 1)\n",
        "      self.relu = nn.ReLU(inplace=True)\n",
        "      self.max_pool = nn.MaxPool2d(2)      \n",
        "      self.conv2 = nn.Conv2d(16, 32, kernel_size = (3,3), stride = 1, padding = 1)\n",
        "      self.conv3 = nn.Conv2d(32, 64, kernel_size = (3,3), stride = 1, padding = 1)      \n",
        "      self.batch_norm = nn.BatchNorm2d(64)\n",
        "      self.lin = nn.Linear(50176, 4) # 28 x 28 = 784 feature map, there are \n",
        "      self.outLayer = nn.LogSoftmax(dim = 1) \n",
        "      \n",
        "      self.max_pool = nn.MaxPool2d(2)   \n",
        "\n",
        "\n",
        "    def forward(self, x):\n",
        "      x = self.conv1(x)\n",
        "      x = self.relu(x)\n",
        "      x = self.max_pool(x)\n",
        "      x = self.conv2(x)\n",
        "      x = self.relu(x)\n",
        "      x = self.max_pool(x)\n",
        "      x = self.conv3(x)\n",
        "      x = self.batch_norm(x)\n",
        "      x = self.relu(x)\n",
        "      x = self.max_pool(x)\n",
        "\n",
        "      x = x.view(x.size(0), -1) \n",
        "      x = self.lin(x)\n",
        "      return self.outLayer(x)"
      ]
    },
    {
      "cell_type": "code",
      "execution_count": null,
      "metadata": {
        "id": "spwuuCJcb5H_"
      },
      "outputs": [],
      "source": [
        "class FCNet(nn.Module):\n",
        "    '''Define your full connected network'''\n",
        "    def _init_(self, **kwargs):\n",
        "        super(FCNet, self)._init_()\n",
        "        self.fcl1 = nn.Linear(224*224*3, 1024)\n",
        "        self.fcl2 = nn.Linear(1024, 512)\n",
        "        self.fcl3 = nn.Linear(512, 256)\n",
        "        self.fcl4 = nn.Linear(256, 4)\n",
        "        self.reluFunction = nn.ReLU()\n",
        "        \n",
        "    def forward(self, x):\n",
        "      flattened = x.view(-1, 3*224*224)\n",
        "      activation1 = F.relu(self.fcl1(flattened))\n",
        "      activation2 = F.relu(self.fcl2(activation1))\n",
        "      activation3 = F.relu(self.fcl3(activation2))\n",
        "      output = self.fcl4(activation3)\n",
        "      return  F.log_softmax(output)"
      ]
    },
    {
      "cell_type": "code",
      "execution_count": null,
      "metadata": {
        "id": "bmV69xm_gAJa"
      },
      "outputs": [],
      "source": [
        "\n",
        "max_epoch = 25\n",
        "train_batch = 64\n",
        "test_batch = 64\n",
        "learning_rate = 5e-2\n",
        "momentum = 0.5\n",
        "weight_decay = 5e-04\n",
        "\n",
        "use_gpu = torch.cuda.is_available()\n",
        "\n",
        "X1 = CustomDataset(x_train, y_train)\n",
        "X2 = CustomDataset(x_val, y_val)\n",
        "X3 = CustomDataset(x_test, y_test)\n",
        "\n",
        "# Create train dataset loader\n",
        "train_loader = DataLoader(dataset = X1, batch_size = train_batch, shuffle = True)\n",
        "# Create validation dataset loader\n",
        "val_loader = DataLoader(dataset = X2, batch_size = test_batch, shuffle = True)\n",
        "# Create test dataset loader\n",
        "test_loader = DataLoader(dataset = X3, batch_size = test_batch, shuffle = True)\n",
        "\n",
        "# initialize your network\n",
        "model = FCNet().cuda()\n",
        "\n",
        "criterion = nn.CrossEntropyLoss()\n",
        "\n",
        "optimizer = torch.optim.SGD(model.parameters(), lr=learning_rate, momentum=momentum, weight_decay=weight_decay) \n",
        "\n",
        "train_epoch_acc_data = []\n",
        "train_epoch_loss_data = []\n",
        "val_epoch_acc_data = []\n",
        "val_epoch_loss_data = []\n",
        "epochs = np.arange(max_epoch)\n",
        "val_best_acc = 0\n",
        "\n",
        "for epoch in range(max_epoch):\n",
        "#    iterate over training batches\n",
        "\n",
        "  model=model.train()\n",
        "  train_total_loss = 0\n",
        "  train_batch_count = 0\n",
        "  train_total_true = 0\n",
        "  train_total_predicted = 0\n",
        "  train_running_loss = 0.0\n",
        "  val_total_loss = 0\n",
        "  val_batch_count = 0\n",
        "  val_total_true = 0\n",
        "  val_total_predicted = 0\n",
        "\n",
        "  for i, (labels, inputs) in enumerate(train_loader):\n",
        "    train_batch_count += 1\n",
        "\n",
        "    labels = labels.cuda()\n",
        "    inputs = inputs.cuda()\n",
        "    # zero the parameter gradients\n",
        "    optimizer.zero_grad()\n",
        "    \n",
        "    # forward + backward + optimize\n",
        "    \n",
        "    outputs = model(inputs.float())\n",
        "\n",
        "    pred = torch.argmax(outputs,1)\n",
        "    train_total_true += torch.sum(pred == labels).detach().cpu().numpy()\n",
        "    train_total_predicted += labels.shape[0]\n",
        "\n",
        "    loss = criterion(outputs, labels)\n",
        "    loss.backward()\n",
        "    optimizer.step()\n",
        "\n",
        "    train_running_loss += loss.item()\n",
        "  \n",
        "  train_avg_loss = train_running_loss / train_batch_count\n",
        "  train_avg_acc = train_total_true / train_total_predicted\n",
        "  \n",
        "  train_epoch_acc_data.append(train_avg_acc)\n",
        "  train_epoch_loss_data.append(train_avg_loss)\n",
        "\n",
        "#    Validation\n",
        "  model = model.eval()\n",
        "  with torch.no_grad():\n",
        "#     iterate over validation batches\n",
        "    for i, data in enumerate(val_loader, 0):\n",
        "      val_batch_count += 1\n",
        "      labels, inputs = data\n",
        "\n",
        "      labels = labels.cuda()\n",
        "      inputs = inputs.cuda()\n",
        "\n",
        "      outputs = model(inputs.float())\n",
        "      pred = torch.argmax(outputs,1)\n",
        "      val_total_true += torch.sum(pred == labels).detach().cpu().numpy()\n",
        "      val_total_predicted += labels.shape[0]\n",
        "      val_total_loss += criterion(outputs, labels).item()\n",
        "      \n",
        "\n",
        "  val_acc = val_total_true / val_total_predicted\n",
        "  val_loss = val_total_loss/val_batch_count\n",
        "\n",
        "  val_epoch_acc_data.append(val_acc)\n",
        "  val_epoch_loss_data.append(val_loss)\n",
        "\n",
        "  print('Epoch: ' + str(epoch + 1) + \"\\t\" + \"Train Loss: \" + str(round(train_avg_loss,4))\n",
        "                  + \"\\tTrain Accuracy: \" + str(round(train_avg_acc.item(),4))\n",
        "                  + \"\\tVal Loss: \" + str(round(val_loss,4))\n",
        "                  + \"\\tVal Accuracy: \" + str(round(val_acc.item(),4)))\n",
        "\n",
        "  if val_acc >= val_best_acc:\n",
        "    val_best_acc = val_acc\n",
        "    best_learning_rate = learning_rate\n",
        "    torch.save(model,\"best_fcn_sgd\")"
      ]
    },
    {
      "cell_type": "code",
      "execution_count": null,
      "metadata": {
        "colab": {
          "base_uri": "https://localhost:8080/"
        },
        "id": "gsEdzn4ON9fx",
        "outputId": "da4b37ae-1012-463d-973b-2c70fa9513d2"
      },
      "outputs": [
        {
          "name": "stdout",
          "output_type": "stream",
          "text": [
            "Epoch: 1\tTrain Loss: 0.8498\tTrain Accuracy: 0.6569\tVal Loss: 1.3259\tVal Accuracy: 0.6372\n",
            "Epoch: 2\tTrain Loss: 0.512\tTrain Accuracy: 0.8348\tVal Loss: 1.2225\tVal Accuracy: 0.7257\n",
            "Epoch: 3\tTrain Loss: 0.4358\tTrain Accuracy: 0.864\tVal Loss: 1.0652\tVal Accuracy: 0.7434\n",
            "Epoch: 4\tTrain Loss: 0.3972\tTrain Accuracy: 0.8767\tVal Loss: 0.8494\tVal Accuracy: 0.7434\n",
            "Epoch: 5\tTrain Loss: 0.3813\tTrain Accuracy: 0.8869\tVal Loss: 0.6484\tVal Accuracy: 0.7522\n",
            "Epoch: 6\tTrain Loss: 0.3556\tTrain Accuracy: 0.8945\tVal Loss: 0.4765\tVal Accuracy: 0.823\n",
            "Epoch: 7\tTrain Loss: 0.3277\tTrain Accuracy: 0.9022\tVal Loss: 0.414\tVal Accuracy: 0.8496\n",
            "Epoch: 8\tTrain Loss: 0.304\tTrain Accuracy: 0.9047\tVal Loss: 0.3774\tVal Accuracy: 0.8496\n",
            "Epoch: 9\tTrain Loss: 0.3199\tTrain Accuracy: 0.9085\tVal Loss: 0.3958\tVal Accuracy: 0.8673\n",
            "Epoch: 10\tTrain Loss: 0.2561\tTrain Accuracy: 0.9263\tVal Loss: 0.3854\tVal Accuracy: 0.8584\n",
            "Epoch: 11\tTrain Loss: 0.2518\tTrain Accuracy: 0.939\tVal Loss: 0.3488\tVal Accuracy: 0.8761\n",
            "Epoch: 12\tTrain Loss: 0.2627\tTrain Accuracy: 0.939\tVal Loss: 0.341\tVal Accuracy: 0.8673\n",
            "Epoch: 13\tTrain Loss: 0.2302\tTrain Accuracy: 0.9352\tVal Loss: 0.3635\tVal Accuracy: 0.8761\n",
            "Epoch: 14\tTrain Loss: 0.2425\tTrain Accuracy: 0.9212\tVal Loss: 0.3569\tVal Accuracy: 0.885\n",
            "Epoch: 15\tTrain Loss: 0.2154\tTrain Accuracy: 0.9428\tVal Loss: 0.3433\tVal Accuracy: 0.8938\n",
            "Epoch: 16\tTrain Loss: 0.2087\tTrain Accuracy: 0.9416\tVal Loss: 0.3141\tVal Accuracy: 0.885\n",
            "Epoch: 17\tTrain Loss: 0.1979\tTrain Accuracy: 0.9492\tVal Loss: 0.3707\tVal Accuracy: 0.885\n",
            "Epoch: 18\tTrain Loss: 0.1898\tTrain Accuracy: 0.9492\tVal Loss: 0.3449\tVal Accuracy: 0.8938\n",
            "Epoch: 19\tTrain Loss: 0.1986\tTrain Accuracy: 0.9492\tVal Loss: 0.3351\tVal Accuracy: 0.885\n",
            "Epoch: 20\tTrain Loss: 0.1765\tTrain Accuracy: 0.9428\tVal Loss: 0.3104\tVal Accuracy: 0.8938\n",
            "Epoch: 21\tTrain Loss: 0.1715\tTrain Accuracy: 0.953\tVal Loss: 0.2987\tVal Accuracy: 0.885\n",
            "Epoch: 22\tTrain Loss: 0.1752\tTrain Accuracy: 0.9581\tVal Loss: 0.3356\tVal Accuracy: 0.885\n",
            "Epoch: 23\tTrain Loss: 0.1767\tTrain Accuracy: 0.9555\tVal Loss: 0.3273\tVal Accuracy: 0.8938\n",
            "Epoch: 24\tTrain Loss: 0.1538\tTrain Accuracy: 0.9657\tVal Loss: 0.331\tVal Accuracy: 0.885\n",
            "Epoch: 25\tTrain Loss: 0.1691\tTrain Accuracy: 0.9606\tVal Loss: 0.3082\tVal Accuracy: 0.885\n"
          ]
        }
      ],
      "source": [
        "\n",
        "max_epoch = 25\n",
        "train_batch = 64\n",
        "test_batch = 64\n",
        "learning_rate = 1e-4\n",
        "momentum = 0.75\n",
        "weight_decay = 1e-3\n",
        "\n",
        "use_gpu = torch.cuda.is_available()\n",
        "\n",
        "X1 = CustomDataset(x_train, y_train)\n",
        "X2 = CustomDataset(x_val, y_val)\n",
        "X3 = CustomDataset(x_test, y_test)\n",
        "\n",
        "# Create train dataset loader\n",
        "train_loader = DataLoader(dataset = X1, batch_size = train_batch, shuffle = True)\n",
        "# Create validation dataset loader\n",
        "val_loader = DataLoader(dataset = X2, batch_size = test_batch, shuffle = True)\n",
        "# Create test dataset loader\n",
        "test_loader = DataLoader(dataset = X3, batch_size = test_batch, shuffle = True)\n",
        "\n",
        "# initialize your network\n",
        "model = ConvNet().cuda()\n",
        "\n",
        "# define your loss function\n",
        "criterion = nn.CrossEntropyLoss()\n",
        "\n",
        "optimizer = torch.optim.SGD(model.parameters(), lr=learning_rate, momentum=momentum, weight_decay=weight_decay) \n",
        "\n",
        "train_epoch_acc_data = []\n",
        "train_epoch_loss_data = []\n",
        "val_epoch_acc_data = []\n",
        "val_epoch_loss_data = []\n",
        "epochs = np.arange(max_epoch)\n",
        "val_best_acc = 0\n",
        "\n",
        "for epoch in range(max_epoch):\n",
        "#    iterate over training batches\n",
        "\n",
        "  model=model.train()\n",
        "  train_total_loss = 0\n",
        "  train_batch_count = 0\n",
        "  train_total_true = 0\n",
        "  train_total_predicted = 0\n",
        "  train_running_loss = 0.0\n",
        "  val_total_loss = 0\n",
        "  val_batch_count = 0\n",
        "  val_total_true = 0\n",
        "  val_total_predicted = 0\n",
        "\n",
        "  for i, (labels, inputs) in enumerate(train_loader):\n",
        "    train_batch_count += 1\n",
        "\n",
        "    labels = labels.cuda()\n",
        "    inputs = inputs.cuda()\n",
        "    # zero the parameter gradients\n",
        "    optimizer.zero_grad()\n",
        "    \n",
        "    # forward + backward + optimize\n",
        "    \n",
        "    outputs = model(inputs.float())\n",
        "\n",
        "    pred = torch.argmax(outputs,1)\n",
        "    train_total_true += torch.sum(pred == labels).detach().cpu().numpy()\n",
        "    train_total_predicted += labels.shape[0]\n",
        "\n",
        "    loss = criterion(outputs, labels)\n",
        "    loss.backward()\n",
        "    optimizer.step()\n",
        "\n",
        "    train_running_loss += loss.item()\n",
        "  \n",
        "  train_avg_loss = train_running_loss / train_batch_count\n",
        "  train_avg_acc = train_total_true / train_total_predicted\n",
        "  \n",
        "  train_epoch_acc_data.append(train_avg_acc)\n",
        "  train_epoch_loss_data.append(train_avg_loss)\n",
        "\n",
        "#    Validation\n",
        "  model = model.eval()\n",
        "  with torch.no_grad():\n",
        "#     iterate over validation batches\n",
        "    for i, data in enumerate(val_loader, 0):\n",
        "      val_batch_count += 1\n",
        "      labels, inputs = data\n",
        "\n",
        "      labels = labels.cuda()\n",
        "      inputs = inputs.cuda()\n",
        "\n",
        "      outputs = model(inputs.float())\n",
        "      pred = torch.argmax(outputs,1)\n",
        "      val_total_true += torch.sum(pred == labels).detach().cpu().numpy()\n",
        "      val_total_predicted += labels.shape[0]\n",
        "      val_total_loss += criterion(outputs, labels).item()\n",
        "      \n",
        "\n",
        "  val_acc = val_total_true / val_total_predicted\n",
        "  val_loss = val_total_loss/val_batch_count\n",
        "\n",
        "  val_epoch_acc_data.append(val_acc)\n",
        "  val_epoch_loss_data.append(val_loss)\n",
        "\n",
        "  print('Epoch: ' + str(epoch + 1) + \"\\t\" + \"Train Loss: \" + str(round(train_avg_loss,4))\n",
        "                  + \"\\tTrain Accuracy: \" + str(round(train_avg_acc.item(),4))\n",
        "                  + \"\\tVal Loss: \" + str(round(val_loss,4))\n",
        "                  + \"\\tVal Accuracy: \" + str(round(val_acc.item(),4)))\n",
        "\n",
        "  if val_acc >= val_best_acc:\n",
        "    val_best_acc = val_acc\n",
        "    best_learning_rate = learning_rate\n",
        "    torch.save(model,\"best_cnn_sgd\")"
      ]
    },
    {
      "cell_type": "code",
      "execution_count": null,
      "metadata": {
        "colab": {
          "base_uri": "https://localhost:8080/",
          "height": 370
        },
        "id": "lFwAi_zPelX6",
        "outputId": "0ecaf71e-3213-4671-9e3e-be7cd8a15de6"
      },
      "outputs": [
        {
          "data": {
            "image/png": "[encoded data removed]",
            "text/plain": [
              "<Figure size 1080x360 with 2 Axes>"
            ]
          },
          "metadata": {
            "needs_background": "light"
          },
          "output_type": "display_data"
        }
      ],
      "source": [
        "\n",
        "fig, ax = plt.subplots(1,2,figsize=(15, 5),squeeze=False)\n",
        "\n",
        "ax[0][0].plot(epochs,val_epoch_loss_data,label='Validation Loss',color='blue')\n",
        "ax[0][0].plot(epochs,train_epoch_loss_data,label='Training Loss',color='red')\n",
        "ax[0][0].set_xlabel('Epoch')\n",
        "ax[0][0].set_ylabel('Loss')\n",
        "ax[0][0].legend(loc=\"upper right\")\n",
        "\n",
        "ax[0][1].plot(epochs,val_epoch_acc_data,label='Validation Accuracy',color='blue')\n",
        "ax[0][1].plot(epochs,train_epoch_acc_data,label='Training Accuracy',color='red')\n",
        "ax[0][1].set_xlabel('Epoch')\n",
        "ax[0][1].set_ylabel('Accuracy')\n",
        "ax[0][1].legend(loc=\"upper right\")\n",
        "\n",
        "fig.suptitle(\"Training vs Validation Loss and Accuracy\")\n",
        "\n",
        "plt.show()"
      ]
    },
    {
      "cell_type": "code",
      "execution_count": null,
      "metadata": {
        "colab": {
          "base_uri": "https://localhost:8080/",
          "height": 497
        },
        "id": "2yak2xUxsgKz",
        "outputId": "b0af722b-b026-48c7-ef02-9f1fd5bb3995"
      },
      "outputs": [
        {
          "name": "stdout",
          "output_type": "stream",
          "text": [
            "Accuracy for label - Cloudy:\t0.9385\n",
            "Accuracy for label - Rain:\t0.9375\n",
            "Accuracy for label - Shine:\t0.875\n",
            "Accuracy for label - Sunrise:\t0.9167\n",
            "\n",
            "Mean Macro Precision: 0.9156 \n",
            "Mean Macro Recall: 0.9156 \n",
            "Mean Macro F1 Score: 0.9156\n",
            "tensor([[61,  2,  2,  0],\n",
            "        [ 1, 30,  1,  0],\n",
            "        [ 5,  2, 49,  0],\n",
            "        [ 3,  1,  2, 66]], dtype=torch.int32)\n"
          ]
        },
        {
          "data": {
            "image/png": "[encoded data removed]",
            "text/plain": [
              "<Figure size 432x288 with 2 Axes>"
            ]
          },
          "metadata": {
            "needs_background": "light"
          },
          "output_type": "display_data"
        }
      ],
      "source": [
        "# load best model\n",
        "best_path = \"best_cnn_sgd\"\n",
        "model = torch.load(best_path)\n",
        "label_Space = ['Cloudy', 'Rain', 'Shine', 'Sunrise']\n",
        "# evaluate on test set\n",
        "model = model.eval()\n",
        "\n",
        "test_total_true = 0\n",
        "test_total_predicted = 0\n",
        "test_total_loss = 0\n",
        "test_acc = 0\n",
        "test_loss = 0\n",
        "total_pred= 0\n",
        "indv_acc = [0,0,0,0,0,0,0,0,0,0]  #labels_space.size()\n",
        "\n",
        "con_matrix = torch.zeros(4, 4, dtype = torch.int)\n",
        "criterion = nn.CrossEntropyLoss() # CrossEntropyLoss is selected as the loss fonction\n",
        "\n",
        "\n",
        "with torch.no_grad():\n",
        "#   iterate over test batches\n",
        "  for i, data in enumerate(test_loader, 0):\n",
        "      labels, inputs = data\n",
        "\n",
        "      labels = labels.cuda()\n",
        "      inputs = inputs.cuda()\n",
        "\n",
        "      outputs = model(inputs.float())\n",
        "      pred = torch.argmax(outputs,1)\n",
        "      \n",
        "      total_pred += pred.shape[0]\n",
        "\n",
        "      for i in range(pred.shape[0]):\n",
        "        con_matrix[labels[i]][pred[i]] += 1\n",
        "        if pred[i] == labels[i]:\n",
        "          test_total_true += 1\n",
        "      \n",
        "  test_total_predicted = torch.sum(torch.diag(con_matrix)).item()\n",
        "#   get confusion matrix\n",
        "  for index,i in enumerate(con_matrix):\n",
        "    indv_acc[index] = torch.diag(con_matrix)[index].item() / sum(i)\n",
        "    answer = str(round(indv_acc[index].item(),4))\n",
        "    print(\"Accuracy for label - \" + label_Space[index] + \":\\t\" + answer)\n",
        "\n",
        "  fn_cnn = torch.sum(torch.sum(con_matrix, dim = 0) - torch.diag(con_matrix)) #row by row\n",
        "  fp_cnn = torch.sum(torch.sum(con_matrix, dim = 1) - torch.diag(con_matrix)) #column by colum\n",
        "\n",
        "  precision_cnn = test_total_true / (test_total_true + fp_cnn.item())\n",
        "  recall_cnn = test_total_true / (test_total_true + fn_cnn.item())\n",
        "  f1_cnn = (2 * precision_cnn * recall_cnn) / (precision_cnn + recall_cnn)\n",
        "#   calculate accuracy\n",
        "  acc = round(test_total_predicted / 2000)\n",
        "#   calculate precision\n",
        "  pre = round(precision_cnn,4)\n",
        "#   calculate recall\n",
        "  recall = round(recall_cnn,4)\n",
        "#   calculate F1 score\n",
        "  f1 = round(f1_cnn,4)\n",
        "\n",
        "# print metrics\n",
        "  print(\"\\nMean Macro Precision:\", pre, \"\\nMean Macro Recall:\", recall, \"\\nMean Macro F1 Score:\", f1) \n",
        "\n",
        "# plot confusion matrix\n",
        "  print(con_matrix)\n",
        "  con_matrix = np.array(con_matrix)\n",
        "  cm = con_matrix.astype('float') / con_matrix.sum(axis=1)[:, np.newaxis]\n",
        "  plt.imshow(cm, interpolation='nearest')\n",
        "  plt.colorbar()\n",
        "  tick_marks = np.arange(4)\n",
        "  plt.xticks(tick_marks, label_Space, rotation=45)\n",
        "  plt.yticks(tick_marks, label_Space)\n",
        "  fig.tight_layout()\n",
        "  plt.show()"
      ]
    },
    {
      "cell_type": "code",
      "execution_count": null,
      "metadata": {
        "colab": {
          "base_uri": "https://localhost:8080/"
        },
        "id": "V6Fvqilcrz10",
        "outputId": "633fef1d-ed45-48e0-f501-b72e832bf6b6"
      },
      "outputs": [
        {
          "name": "stderr",
          "output_type": "stream",
          "text": [
            "/usr/local/lib/python3.8/dist-packages/torchvision/models/_utils.py:208: UserWarning: The parameter 'pretrained' is deprecated since 0.13 and may be removed in the future, please use 'weights' instead.\n",
            "  warnings.warn(\n",
            "/usr/local/lib/python3.8/dist-packages/torchvision/models/_utils.py:223: UserWarning: Arguments other than a weight enum or `None` for 'weights' are deprecated since 0.13 and may be removed in the future. The current behavior is equivalent to passing `weights=ResNet18_Weights.IMAGENET1K_V1`. You can also use `weights=ResNet18_Weights.DEFAULT` to get the most up-to-date weights.\n",
            "  warnings.warn(msg)\n"
          ]
        },
        {
          "name": "stdout",
          "output_type": "stream",
          "text": [
            "Epoch: 1\tTrain Loss: 7.4431\tTrain Accuracy: 0.3088\tVal Loss: 3.6996\tVal Accuracy: 0.6814\n",
            "Epoch: 2\tTrain Loss: 0.6498\tTrain Accuracy: 0.8691\tVal Loss: 0.1859\tVal Accuracy: 0.9204\n",
            "Epoch: 3\tTrain Loss: 0.1575\tTrain Accuracy: 0.9454\tVal Loss: 0.121\tVal Accuracy: 0.9469\n",
            "Epoch: 4\tTrain Loss: 0.1919\tTrain Accuracy: 0.9314\tVal Loss: 0.1537\tVal Accuracy: 0.9735\n",
            "Epoch: 5\tTrain Loss: 0.1297\tTrain Accuracy: 0.9606\tVal Loss: 0.2599\tVal Accuracy: 0.9115\n",
            "Epoch: 6\tTrain Loss: 0.1155\tTrain Accuracy: 0.953\tVal Loss: 0.1199\tVal Accuracy: 0.9381\n",
            "Epoch: 7\tTrain Loss: 0.0958\tTrain Accuracy: 0.9733\tVal Loss: 0.4036\tVal Accuracy: 0.8584\n",
            "Epoch: 8\tTrain Loss: 0.0899\tTrain Accuracy: 0.9695\tVal Loss: 0.3003\tVal Accuracy: 0.8938\n",
            "Epoch: 9\tTrain Loss: 0.086\tTrain Accuracy: 0.9682\tVal Loss: 0.5568\tVal Accuracy: 0.7965\n",
            "Epoch: 10\tTrain Loss: 0.1379\tTrain Accuracy: 0.9517\tVal Loss: 0.1226\tVal Accuracy: 0.9646\n"
          ]
        }
      ],
      "source": [
        "\n",
        "max_epoch = 10\n",
        "train_batch = 64\n",
        "test_batch = 64\n",
        "learning_rate = 9e-2\n",
        "weight_decay = 5e-04\n",
        "\n",
        "use_gpu = torch.device(\"cuda:0\" if torch.cuda.is_available() else \"cpu\")\n",
        "\n",
        "\n",
        "# initialize your network\n",
        "model = models.resnet18(pretrained=True)\n",
        "num_features = model.fc.in_features\n",
        "for para in model.parameters():\n",
        "  para.requires_grad = False\n",
        "\n",
        "\n",
        "fc = nn.Sequential( nn.Linear(512,4), nn.LogSoftmax(dim=1))\n",
        "\n",
        "model.fc = fc\n",
        "model = model.to(use_gpu)\n",
        "\n",
        "# define your loss function\n",
        "    \n",
        "optimizer = torch.optim.SGD(model.parameters(), lr = learning_rate, weight_decay = 5e-04) # you can play with momentum and weight_decay parameters as well\n",
        "\n",
        "criterion = nn.CrossEntropyLoss()\n",
        "    \n",
        "\n",
        "train_epoch_acc_data = []\n",
        "train_epoch_loss_data = []\n",
        "val_epoch_acc_data = []\n",
        "val_epoch_loss_data = []\n",
        "epochs = np.arange(max_epoch)\n",
        "val_best_acc = 0\n",
        "\n",
        "for epoch in range(max_epoch):\n",
        "#    iterate over training batches\n",
        "\n",
        "  model=model.train()\n",
        "  train_total_loss = 0\n",
        "  train_batch_count = 0\n",
        "  train_total_true = 0\n",
        "  train_total_predicted = 0\n",
        "  train_running_loss = 0.0\n",
        "  val_total_loss = 0\n",
        "  val_batch_count = 0\n",
        "  val_total_true = 0\n",
        "  val_total_predicted = 0\n",
        "\n",
        "  for i, (labels, inputs) in enumerate(train_loader):\n",
        "    train_batch_count += 1\n",
        "\n",
        "    labels = labels.cuda()\n",
        "    inputs = inputs.cuda()\n",
        "    # zero the parameter gradients\n",
        "    optimizer.zero_grad()\n",
        "\n",
        "    \n",
        "    outputs = model(inputs.float())\n",
        "\n",
        "    pred = torch.argmax(outputs,1)\n",
        "    train_total_true += torch.sum(pred == labels).detach().cpu().numpy()\n",
        "    train_total_predicted += labels.shape[0]\n",
        "\n",
        "    loss = criterion(outputs, labels)\n",
        "    loss.backward()\n",
        "    optimizer.step()\n",
        "\n",
        "    train_running_loss += loss.item()\n",
        "  \n",
        "  train_avg_loss = train_running_loss / train_batch_count\n",
        "  train_avg_acc = train_total_true / train_total_predicted\n",
        "  \n",
        "  train_epoch_acc_data.append(train_avg_acc)\n",
        "  train_epoch_loss_data.append(train_avg_loss)\n",
        "\n",
        "#    Validation\n",
        "  model = model.eval()\n",
        "  with torch.no_grad():\n",
        "#     iterate over validation batches\n",
        "    for i, data in enumerate(val_loader, 0):\n",
        "      val_batch_count += 1\n",
        "      labels, inputs = data\n",
        "\n",
        "      labels = labels.cuda()\n",
        "      inputs = inputs.cuda()\n",
        "\n",
        "      outputs = model(inputs.float())\n",
        "      pred = torch.argmax(outputs,1)\n",
        "      val_total_true += torch.sum(pred == labels).detach().cpu().numpy()\n",
        "      val_total_predicted += labels.shape[0]\n",
        "      val_total_loss += criterion(outputs, labels).item()\n",
        "      \n",
        "\n",
        "  val_acc = val_total_true / val_total_predicted\n",
        "  val_loss = val_total_loss/val_batch_count\n",
        "\n",
        "  val_epoch_acc_data.append(val_acc)\n",
        "  val_epoch_loss_data.append(val_loss)\n",
        "\n",
        "  print('Epoch: ' + str(epoch + 1) + \"\\t\" + \"Train Loss: \" + str(round(train_avg_loss,4))\n",
        "                  + \"\\tTrain Accuracy: \" + str(round(train_avg_acc.item(),4))\n",
        "                  + \"\\tVal Loss: \" + str(round(val_loss,4))\n",
        "                  + \"\\tVal Accuracy: \" + str(round(val_acc.item(),4)))\n",
        "\n",
        "  if val_acc >= val_best_acc:\n",
        "    val_best_acc = val_acc\n",
        "    best_learning_rate = learning_rate\n",
        "    torch.save(model,\"best_cnn_transfer\")"
      ]
    },
    {
      "cell_type": "code",
      "execution_count": null,
      "metadata": {
        "colab": {
          "base_uri": "https://localhost:8080/",
          "height": 370
        },
        "id": "esWBPBmdlqlA",
        "outputId": "667c0674-36de-4f62-c869-394d18ad3631"
      },
      "outputs": [
        {
          "data": {
            "image/png": "[encoded data removed]",
            "text/plain": [
              "<Figure size 1080x360 with 2 Axes>"
            ]
          },
          "metadata": {
            "needs_background": "light"
          },
          "output_type": "display_data"
        }
      ],
      "source": [
        "\n",
        "fig, ax = plt.subplots(1,2,figsize=(15, 5),squeeze=False)\n",
        "ax[0][0].plot(epochs,val_epoch_loss_data,label='Validation Loss',color='blue')\n",
        "ax[0][0].plot(epochs,train_epoch_loss_data,label='Training Loss',color='red')\n",
        "ax[0][0].set_xlabel('Epoch')\n",
        "ax[0][0].set_ylabel('Loss')\n",
        "ax[0][0].legend(loc=\"upper right\")\n",
        "ax[0][1].plot(epochs,val_epoch_acc_data,label='Validation Accuracy',color='blue')\n",
        "ax[0][1].plot(epochs,train_epoch_acc_data,label='Training Accuracy',color='red')\n",
        "ax[0][1].set_xlabel('Epoch')\n",
        "ax[0][1].set_ylabel('Accuracy')\n",
        "ax[0][1].legend(loc=\"upper right\")\n",
        "fig.suptitle(\"Training vs Validation Loss and Accuracy\")\n",
        "plt.show()    "
      ]
    },
    {
      "cell_type": "code",
      "execution_count": null,
      "metadata": {
        "colab": {
          "base_uri": "https://localhost:8080/",
          "height": 497
        },
        "id": "bsZbLlOD5SvJ",
        "outputId": "20240121-72a0-4b77-a180-4555dc88fead"
      },
      "outputs": [
        {
          "name": "stdout",
          "output_type": "stream",
          "text": [
            "Accuracy for label - Cloudy:\t0.9846\n",
            "Accuracy for label - Rain:\t0.9375\n",
            "Accuracy for label - Shine:\t0.8571\n",
            "Accuracy for label - Sunrise:\t0.9722\n",
            "Mean Acc: 0.106 \n",
            "Mean Macro Precision: 0.9422222222222222 \n",
            "Mean Macro Recall: 0.9422222222222222 \n",
            "Mean Macro F1 Score: 0.9422222222222222\n",
            "tensor([[64,  0,  1,  0],\n",
            "        [ 2, 30,  0,  0],\n",
            "        [ 7,  1, 48,  0],\n",
            "        [ 1,  0,  1, 70]], dtype=torch.int32)\n"
          ]
        },
        {
          "data": {
            "image/png": "[encoded data removed]",
            "text/plain": [
              "<Figure size 432x288 with 2 Axes>"
            ]
          },
          "metadata": {
            "needs_background": "light"
          },
          "output_type": "display_data"
        }
      ],
      "source": [
        "\n",
        "best_path = \"best_cnn_transfer\"\n",
        "model = torch.load(best_path)\n",
        "label_Space = ['Cloudy', 'Rain', 'Shine', 'Sunrise']\n",
        "# evaluate on test set\n",
        "model = model.eval()\n",
        "\n",
        "test_total_true = 0\n",
        "test_total_predicted = 0\n",
        "test_total_loss = 0\n",
        "test_acc = 0\n",
        "test_loss = 0\n",
        "total_pred= 0\n",
        "indv_acc = [0,0,0,0,0,0,0,0,0,0]  #labels_space.size()\n",
        "\n",
        "con_matrix = torch.zeros(4, 4, dtype = torch.int)\n",
        "criterion = nn.CrossEntropyLoss() # CrossEntropyLoss is selected as the loss fonction\n",
        "\n",
        "\n",
        "with torch.no_grad():\n",
        "#   iterate over test batches\n",
        "  for i, data in enumerate(test_loader, 0):\n",
        "      labels, inputs = data\n",
        "\n",
        "      labels = labels.cuda()\n",
        "      inputs = inputs.cuda()\n",
        "\n",
        "      outputs = model(inputs.float())\n",
        "      pred = torch.argmax(outputs,1)\n",
        "      \n",
        "      total_pred += pred.shape[0]\n",
        "\n",
        "      # test_total_loss += criterion(outputs, labels).item()\n",
        "\n",
        "      for i in range(pred.shape[0]):\n",
        "        con_matrix[labels[i]][pred[i]] += 1\n",
        "        if pred[i] == labels[i]:\n",
        "          test_total_true += 1\n",
        "      \n",
        "  test_total_predicted = torch.sum(torch.diag(con_matrix)).item()\n",
        "#   get confusion matrix\n",
        "  for index,i in enumerate(con_matrix):\n",
        "    indv_acc[index] = torch.diag(con_matrix)[index].item() / sum(i)\n",
        "    answer = str(round(indv_acc[index].item(),4))\n",
        "    print(\"Accuracy for label - \" + label_Space[index] + \":\\t\" + answer)\n",
        "\n",
        "  fn_cnn = torch.sum(torch.sum(con_matrix, dim = 0) - torch.diag(con_matrix)) #row by row\n",
        "  fp_cnn = torch.sum(torch.sum(con_matrix, dim = 1) - torch.diag(con_matrix)) #column by colum\n",
        "\n",
        "  precision_cnn = test_total_true / (test_total_true + fp_cnn.item())\n",
        "  recall_cnn = test_total_true / (test_total_true + fn_cnn.item())\n",
        "  f1_cnn = (2 * precision_cnn * recall_cnn) / (precision_cnn + recall_cnn)\n",
        "#   calculate accuracy\n",
        "  acc = (test_total_predicted / 2000)\n",
        "#   calculate precision\n",
        "  pre = (precision_cnn)\n",
        "#   calculate recall\n",
        "  recall = (recall_cnn)\n",
        "#   calculate F1 score\n",
        "  f1 = (f1_cnn)\n",
        "\n",
        "# print metrics\n",
        "  print(\"Mean Acc:\", acc,\"\\nMean Macro Precision:\", pre, \"\\nMean Macro Recall:\", recall, \"\\nMean Macro F1 Score:\", f1) \n",
        "\n",
        "# plot confusion matrix\n",
        "  print(con_matrix)\n",
        "  con_matrix = np.array(con_matrix)\n",
        "  cm = con_matrix.astype('float') / con_matrix.sum(axis=1)[:, np.newaxis]\n",
        "  plt.imshow(cm, interpolation='nearest')\n",
        "  plt.colorbar()\n",
        "  tick_marks = np.arange(4)\n",
        "  plt.xticks(tick_marks, label_Space, rotation=45)\n",
        "  plt.yticks(tick_marks, label_Space)\n",
        "  fig.tight_layout()\n",
        "  plt.show()"
      ]
    },
    {
      "cell_type": "markdown",
      "metadata": {
        "id": "23y1QPvOVDIF"
      },
      "source": [
        "# References\n",
        "[1] Ajayi, Gbeminiyi (2018), “Multi-class Weather Dataset for Image Classification”, Mendeley Data, V1, doi: 10.17632/4drtyfjtfy.1"
      ]
    }
  ],
  "metadata": {
    "accelerator": "GPU",
    "colab": {
      "provenance": []
    },
    "kernelspec": {
      "display_name": "Python 3",
      "language": "python",
      "name": "python3"
    },
    "language_info": {
      "codemirror_mode": {
        "name": "ipython",
        "version": 3
      },
      "file_extension": ".py",
      "mimetype": "text/x-python",
      "name": "python",
      "nbconvert_exporter": "python",
      "pygments_lexer": "ipython3",
      "version": "3.8.3"
    }
  },
  "nbformat": 4,
  "nbformat_minor": 0
}
